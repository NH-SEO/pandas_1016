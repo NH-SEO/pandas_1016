{
 "cells": [
  {
   "cell_type": "code",
   "execution_count": 1,
   "id": "33393bb9",
   "metadata": {},
   "outputs": [],
   "source": [
    "import warnings\n",
    "warnings.filterwarnings('ignore')\n",
    "\n",
    "import pandas as pd\n",
    "import numpy as np"
   ]
  },
  {
   "cell_type": "markdown",
   "id": "8fe1d8de",
   "metadata": {},
   "source": [
    "# test3"
   ]
  },
  {
   "cell_type": "markdown",
   "id": "db956203",
   "metadata": {},
   "source": [
    "# 1-1"
   ]
  },
  {
   "cell_type": "code",
   "execution_count": 34,
   "id": "929b98fb",
   "metadata": {},
   "outputs": [],
   "source": [
    "df = pd.read_csv('dataset/tweets2.csv')"
   ]
  },
  {
   "cell_type": "code",
   "execution_count": 35,
   "id": "2653689e",
   "metadata": {},
   "outputs": [
    {
     "data": {
      "text/plain": [
       "(313, 13)"
      ]
     },
     "execution_count": 35,
     "metadata": {},
     "output_type": "execute_result"
    }
   ],
   "source": [
    "df.shape"
   ]
  },
  {
   "cell_type": "code",
   "execution_count": 36,
   "id": "457f7c0d",
   "metadata": {},
   "outputs": [],
   "source": [
    "df = df.set_index('No')"
   ]
  },
  {
   "cell_type": "code",
   "execution_count": 37,
   "id": "a2395292",
   "metadata": {},
   "outputs": [],
   "source": [
    "df['totalSum'] = df.iloc[:, 3:].sum(axis=1)"
   ]
  },
  {
   "cell_type": "code",
   "execution_count": 38,
   "id": "84d36a7d",
   "metadata": {},
   "outputs": [
    {
     "data": {
      "text/html": [
       "<div>\n",
       "<style scoped>\n",
       "    .dataframe tbody tr th:only-of-type {\n",
       "        vertical-align: middle;\n",
       "    }\n",
       "\n",
       "    .dataframe tbody tr th {\n",
       "        vertical-align: top;\n",
       "    }\n",
       "\n",
       "    .dataframe thead th {\n",
       "        text-align: right;\n",
       "    }\n",
       "</style>\n",
       "<table border=\"1\" class=\"dataframe\">\n",
       "  <thead>\n",
       "    <tr style=\"text-align: right;\">\n",
       "      <th></th>\n",
       "      <th>atConference</th>\n",
       "      <th>day</th>\n",
       "      <th>impressions</th>\n",
       "      <th>retweets</th>\n",
       "      <th>likes</th>\n",
       "      <th>userprofileclicks</th>\n",
       "      <th>urlClicks</th>\n",
       "      <th>hashtagClicks</th>\n",
       "      <th>detailExpands</th>\n",
       "      <th>follows</th>\n",
       "      <th>mediaViews</th>\n",
       "      <th>mediaEngagements</th>\n",
       "      <th>totalSum</th>\n",
       "    </tr>\n",
       "    <tr>\n",
       "      <th>No</th>\n",
       "      <th></th>\n",
       "      <th></th>\n",
       "      <th></th>\n",
       "      <th></th>\n",
       "      <th></th>\n",
       "      <th></th>\n",
       "      <th></th>\n",
       "      <th></th>\n",
       "      <th></th>\n",
       "      <th></th>\n",
       "      <th></th>\n",
       "      <th></th>\n",
       "      <th></th>\n",
       "    </tr>\n",
       "  </thead>\n",
       "  <tbody>\n",
       "    <tr>\n",
       "      <td>1</td>\n",
       "      <td>False</td>\n",
       "      <td>2017-10-26</td>\n",
       "      <td>40</td>\n",
       "      <td>0</td>\n",
       "      <td>1</td>\n",
       "      <td>0</td>\n",
       "      <td>0</td>\n",
       "      <td>0</td>\n",
       "      <td>2</td>\n",
       "      <td>0</td>\n",
       "      <td>0</td>\n",
       "      <td>0</td>\n",
       "      <td>3</td>\n",
       "    </tr>\n",
       "    <tr>\n",
       "      <td>2</td>\n",
       "      <td>False</td>\n",
       "      <td>2017-10-26</td>\n",
       "      <td>876</td>\n",
       "      <td>1</td>\n",
       "      <td>7</td>\n",
       "      <td>2</td>\n",
       "      <td>0</td>\n",
       "      <td>0</td>\n",
       "      <td>3</td>\n",
       "      <td>0</td>\n",
       "      <td>0</td>\n",
       "      <td>0</td>\n",
       "      <td>13</td>\n",
       "    </tr>\n",
       "    <tr>\n",
       "      <td>3</td>\n",
       "      <td>False</td>\n",
       "      <td>2017-10-25</td>\n",
       "      <td>131</td>\n",
       "      <td>0</td>\n",
       "      <td>2</td>\n",
       "      <td>0</td>\n",
       "      <td>0</td>\n",
       "      <td>0</td>\n",
       "      <td>4</td>\n",
       "      <td>0</td>\n",
       "      <td>0</td>\n",
       "      <td>0</td>\n",
       "      <td>6</td>\n",
       "    </tr>\n",
       "    <tr>\n",
       "      <td>4</td>\n",
       "      <td>False</td>\n",
       "      <td>2017-10-25</td>\n",
       "      <td>1449</td>\n",
       "      <td>2</td>\n",
       "      <td>8</td>\n",
       "      <td>8</td>\n",
       "      <td>0</td>\n",
       "      <td>0</td>\n",
       "      <td>2</td>\n",
       "      <td>0</td>\n",
       "      <td>0</td>\n",
       "      <td>0</td>\n",
       "      <td>20</td>\n",
       "    </tr>\n",
       "    <tr>\n",
       "      <td>5</td>\n",
       "      <td>False</td>\n",
       "      <td>2017-10-26</td>\n",
       "      <td>147</td>\n",
       "      <td>0</td>\n",
       "      <td>3</td>\n",
       "      <td>0</td>\n",
       "      <td>0</td>\n",
       "      <td>0</td>\n",
       "      <td>2</td>\n",
       "      <td>0</td>\n",
       "      <td>20</td>\n",
       "      <td>2</td>\n",
       "      <td>27</td>\n",
       "    </tr>\n",
       "  </tbody>\n",
       "</table>\n",
       "</div>"
      ],
      "text/plain": [
       "    atConference         day  impressions  retweets  likes  userprofileclicks  \\\n",
       "No                                                                              \n",
       "1          False  2017-10-26           40         0      1                  0   \n",
       "2          False  2017-10-26          876         1      7                  2   \n",
       "3          False  2017-10-25          131         0      2                  0   \n",
       "4          False  2017-10-25         1449         2      8                  8   \n",
       "5          False  2017-10-26          147         0      3                  0   \n",
       "\n",
       "    urlClicks  hashtagClicks  detailExpands  follows  mediaViews  \\\n",
       "No                                                                 \n",
       "1           0              0              2        0           0   \n",
       "2           0              0              3        0           0   \n",
       "3           0              0              4        0           0   \n",
       "4           0              0              2        0           0   \n",
       "5           0              0              2        0          20   \n",
       "\n",
       "    mediaEngagements  totalSum  \n",
       "No                              \n",
       "1                  0         3  \n",
       "2                  0        13  \n",
       "3                  0         6  \n",
       "4                  0        20  \n",
       "5                  2        27  "
      ]
     },
     "execution_count": 38,
     "metadata": {},
     "output_type": "execute_result"
    }
   ],
   "source": [
    "df.head()"
   ]
  },
  {
   "cell_type": "markdown",
   "id": "0d4adcb8",
   "metadata": {},
   "source": [
    "# Q1\n",
    "# 위의 전처리한 데이터를 이용하여 리-트윗 횟수(retweets)가 0이 아닌 데이터를 대상으로 \n",
    "# 실시간 중계 여부(atConference)별로 좋아요 클릭 수(‘likes’)의 평균을 출력하세요."
   ]
  },
  {
   "cell_type": "code",
   "execution_count": 39,
   "id": "93523b43",
   "metadata": {},
   "outputs": [
    {
     "data": {
      "text/plain": [
       "atConference\n",
       "False    15.862069\n",
       "True      2.269231\n",
       "Name: likes, dtype: float64"
      ]
     },
     "execution_count": 39,
     "metadata": {},
     "output_type": "execute_result"
    }
   ],
   "source": [
    "df[df['retweets'] != 0].groupby('atConference')['likes'].mean()"
   ]
  },
  {
   "cell_type": "markdown",
   "id": "06b7c216",
   "metadata": {},
   "source": [
    "# test4"
   ]
  },
  {
   "cell_type": "code",
   "execution_count": 40,
   "id": "268edf1d",
   "metadata": {},
   "outputs": [
    {
     "data": {
      "text/plain": [
       "(63326, 12)"
      ]
     },
     "execution_count": 40,
     "metadata": {},
     "output_type": "execute_result"
    }
   ],
   "source": [
    "df = pd.read_csv('dataset/travel_insurance2.csv')\n",
    "df = df.replace({'Null': np.nan, 'N/A': np.nan, '': np.nan})\n",
    "df.shape"
   ]
  },
  {
   "cell_type": "markdown",
   "id": "6af31872",
   "metadata": {},
   "source": [
    "## 1-1"
   ]
  },
  {
   "cell_type": "code",
   "execution_count": 41,
   "id": "b57d4c76",
   "metadata": {},
   "outputs": [],
   "source": [
    "df = df.drop(columns=['ProductName', 'NetSales'])"
   ]
  },
  {
   "cell_type": "markdown",
   "id": "f2da3069",
   "metadata": {},
   "source": [
    "## 1-2"
   ]
  },
  {
   "cell_type": "code",
   "execution_count": 42,
   "id": "0d27d741",
   "metadata": {},
   "outputs": [],
   "source": [
    "# def get_gender(row):\n",
    "#     if pd.isna(row['Gender']) & (row['NO'] % 2 == 0):\n",
    "#         return 'M'\n",
    "#     elif pd.isna(row['Gender']) & (row['NO'] % 2 != 0):\n",
    "#         return 'F'\n",
    "#     else:\n",
    "#         return row['Gender']"
   ]
  },
  {
   "cell_type": "code",
   "execution_count": 43,
   "id": "97649be8",
   "metadata": {
    "scrolled": false
   },
   "outputs": [],
   "source": [
    "# df['Gender'] = df.apply(lambda x: get_gender(x), axis=1)"
   ]
  },
  {
   "cell_type": "code",
   "execution_count": 44,
   "id": "1efd5085",
   "metadata": {},
   "outputs": [],
   "source": [
    "df.loc[(df['Gender'].isna()) & (df['NO'] % 2 == 0), 'Gender'] = 'M'\n",
    "df.loc[(df['Gender'].isna()) & (df['NO'] % 2 != 0), 'Gender'] = 'F'"
   ]
  },
  {
   "cell_type": "code",
   "execution_count": 45,
   "id": "81ae2685",
   "metadata": {},
   "outputs": [
    {
     "data": {
      "text/plain": [
       "0"
      ]
     },
     "execution_count": 45,
     "metadata": {},
     "output_type": "execute_result"
    }
   ],
   "source": [
    "df['Gender'].isna().sum()"
   ]
  },
  {
   "cell_type": "code",
   "execution_count": 46,
   "id": "4643438c",
   "metadata": {},
   "outputs": [],
   "source": [
    "basetable1 = df.copy()"
   ]
  },
  {
   "cell_type": "markdown",
   "id": "90542bb5",
   "metadata": {},
   "source": [
    "## Q1"
   ]
  },
  {
   "cell_type": "code",
   "execution_count": 53,
   "id": "88e4dac2",
   "metadata": {},
   "outputs": [
    {
     "data": {
      "text/plain": [
       "SINGAPORE                   1352\n",
       "MALAYSIA                     439\n",
       "THAILAND                     434\n",
       "INDONESIA                    362\n",
       "AUSTRALIA                    323\n",
       "                            ... \n",
       "TUNISIA                        1\n",
       "MAURITIUS                      1\n",
       "IRAN ISLAMIC REPUBLIC OF       1\n",
       "COSTA RICA                     1\n",
       "RUSSIAN FEDERATION             1\n",
       "Name: Destination, Length: 72, dtype: int64"
      ]
     },
     "execution_count": 53,
     "metadata": {},
     "output_type": "execute_result"
    }
   ],
   "source": [
    "basetable1[(basetable1['Age'] >= 40) & \\\n",
    "           (basetable1['Age'] < 50) & \\\n",
    "           (basetable1['Gender'] == 'F')]['Destination']\\\n",
    "           .value_counts()"
   ]
  },
  {
   "cell_type": "markdown",
   "id": "5ebb42ad",
   "metadata": {},
   "source": [
    "# test5"
   ]
  },
  {
   "cell_type": "markdown",
   "id": "0a1178a2",
   "metadata": {},
   "source": [
    "# 1-1"
   ]
  },
  {
   "cell_type": "code",
   "execution_count": 54,
   "id": "6ca18b94",
   "metadata": {},
   "outputs": [],
   "source": [
    "df = pd.read_csv('dataset/Train_data.csv')"
   ]
  },
  {
   "cell_type": "code",
   "execution_count": 56,
   "id": "2aa30b21",
   "metadata": {},
   "outputs": [],
   "source": [
    "df = df.dropna(subset=['join_date'])"
   ]
  },
  {
   "cell_type": "code",
   "execution_count": 61,
   "id": "a899f541",
   "metadata": {},
   "outputs": [],
   "source": [
    "df['join_date'] = pd.to_datetime(df['join_date'],\\\n",
    "                                 format='%d/%m/%Y')"
   ]
  },
  {
   "cell_type": "code",
   "execution_count": 64,
   "id": "68b021f7",
   "metadata": {},
   "outputs": [],
   "source": [
    "df['reg_age'] = df['join_date'].dt.year - df['birth_year'] + 1"
   ]
  },
  {
   "cell_type": "markdown",
   "id": "b262de6c",
   "metadata": {},
   "source": [
    "# 1-2"
   ]
  },
  {
   "cell_type": "code",
   "execution_count": 68,
   "id": "9db8ebc4",
   "metadata": {},
   "outputs": [],
   "source": [
    "col = [f'P{i}' for i in range(1, 22)]"
   ]
  },
  {
   "cell_type": "code",
   "execution_count": 71,
   "id": "94f97f3c",
   "metadata": {},
   "outputs": [],
   "source": [
    "df['total'] = df.filter(regex='^P').sum(axis=1)"
   ]
  },
  {
   "cell_type": "code",
   "execution_count": 73,
   "id": "632ad0bb",
   "metadata": {},
   "outputs": [],
   "source": [
    "df['VIP'] = np.where(df['total'] >= 4, 'VIP', 'Not VIP')"
   ]
  },
  {
   "cell_type": "code",
   "execution_count": 75,
   "id": "2aad1a40",
   "metadata": {},
   "outputs": [
    {
     "data": {
      "text/plain": [
       "(29130, 29)"
      ]
     },
     "execution_count": 75,
     "metadata": {},
     "output_type": "execute_result"
    }
   ],
   "source": [
    "df.shape"
   ]
  },
  {
   "cell_type": "code",
   "execution_count": 76,
   "id": "97a78c01",
   "metadata": {},
   "outputs": [],
   "source": [
    "basetable1 = df.copy()"
   ]
  },
  {
   "cell_type": "markdown",
   "id": "2996e326",
   "metadata": {},
   "source": [
    "# Q1"
   ]
  },
  {
   "cell_type": "code",
   "execution_count": 79,
   "id": "74edcd47",
   "metadata": {},
   "outputs": [
    {
     "data": {
      "text/plain": [
       "'49BM'"
      ]
     },
     "execution_count": 79,
     "metadata": {},
     "output_type": "execute_result"
    }
   ],
   "source": [
    "basetable1.groupby('branch_code')['reg_age'].mean().idxmax()"
   ]
  },
  {
   "cell_type": "code",
   "execution_count": 81,
   "id": "a92153d9",
   "metadata": {},
   "outputs": [
    {
     "data": {
      "text/plain": [
       "branch_code\n",
       "49BM    42.745572\n",
       "ZFER    40.631861\n",
       "EU3L    40.222222\n",
       "XX25    39.732620\n",
       "BOAS    39.602305\n",
       "O4JC    39.500000\n",
       "E5SW    39.376138\n",
       "748L    39.300184\n",
       "30H5    39.258013\n",
       "X23B    39.212121\n",
       "9F9T    38.946387\n",
       "94KC    38.857572\n",
       "UAOD    38.736242\n",
       "1X1H    38.534919\n",
       "O67J    36.911032\n",
       "Name: reg_age, dtype: float64"
      ]
     },
     "execution_count": 81,
     "metadata": {},
     "output_type": "execute_result"
    }
   ],
   "source": [
    "basetable1.groupby('branch_code')['reg_age'].mean()\\\n",
    "          .sort_values(ascending=False)"
   ]
  },
  {
   "cell_type": "markdown",
   "id": "7f7d613e",
   "metadata": {},
   "source": [
    "# Q2"
   ]
  },
  {
   "cell_type": "code",
   "execution_count": 84,
   "id": "56e2e8a4",
   "metadata": {},
   "outputs": [
    {
     "data": {
      "text/plain": [
       "(1983, 'M')"
      ]
     },
     "execution_count": 84,
     "metadata": {},
     "output_type": "execute_result"
    }
   ],
   "source": [
    "basetable1.groupby(['birth_year', 'sex'])['total'].sum().idxmax()"
   ]
  },
  {
   "cell_type": "markdown",
   "id": "f4b23a2c",
   "metadata": {},
   "source": [
    "# Q3"
   ]
  },
  {
   "cell_type": "code",
   "execution_count": 89,
   "id": "6182b7eb",
   "metadata": {},
   "outputs": [
    {
     "data": {
      "text/html": [
       "<div>\n",
       "<style scoped>\n",
       "    .dataframe tbody tr th:only-of-type {\n",
       "        vertical-align: middle;\n",
       "    }\n",
       "\n",
       "    .dataframe tbody tr th {\n",
       "        vertical-align: top;\n",
       "    }\n",
       "\n",
       "    .dataframe thead th {\n",
       "        text-align: right;\n",
       "    }\n",
       "</style>\n",
       "<table border=\"1\" class=\"dataframe\">\n",
       "  <thead>\n",
       "    <tr style=\"text-align: right;\">\n",
       "      <th></th>\n",
       "      <th>P1</th>\n",
       "      <th>P21</th>\n",
       "    </tr>\n",
       "  </thead>\n",
       "  <tbody>\n",
       "    <tr>\n",
       "      <td>P1</td>\n",
       "      <td>1.00</td>\n",
       "      <td>0.01</td>\n",
       "    </tr>\n",
       "    <tr>\n",
       "      <td>P21</td>\n",
       "      <td>0.01</td>\n",
       "      <td>1.00</td>\n",
       "    </tr>\n",
       "  </tbody>\n",
       "</table>\n",
       "</div>"
      ],
      "text/plain": [
       "       P1   P21\n",
       "P1   1.00  0.01\n",
       "P21  0.01  1.00"
      ]
     },
     "execution_count": 89,
     "metadata": {},
     "output_type": "execute_result"
    }
   ],
   "source": [
    "basetable1[basetable1['birth_year'] <= 1990][['P1', 'P21']]\\\n",
    ".corr().round(2)"
   ]
  },
  {
   "cell_type": "markdown",
   "id": "a43c211a",
   "metadata": {},
   "source": [
    "# Q4"
   ]
  },
  {
   "cell_type": "code",
   "execution_count": 92,
   "id": "53c3b86c",
   "metadata": {},
   "outputs": [
    {
     "data": {
      "text/plain": [
       "'748L'"
      ]
     },
     "execution_count": 92,
     "metadata": {},
     "output_type": "execute_result"
    }
   ],
   "source": [
    "basetable1[(basetable1['birth_year'] <= 1980) &\n",
    "           (basetable1['sex'] == 'F') &\n",
    "           (basetable1['VIP'] == 'VIP')]\\\n",
    "    .groupby('branch_code').size().idxmax()"
   ]
  },
  {
   "cell_type": "markdown",
   "id": "30103046",
   "metadata": {},
   "source": [
    "# Q5"
   ]
  },
  {
   "cell_type": "code",
   "execution_count": 98,
   "id": "efdde188",
   "metadata": {},
   "outputs": [
    {
     "data": {
      "text/plain": [
       "sex\n",
       "F    40.314175\n",
       "M    39.233391\n",
       "Name: reg_age, dtype: float64"
      ]
     },
     "execution_count": 98,
     "metadata": {},
     "output_type": "execute_result"
    }
   ],
   "source": [
    "basetable1[basetable1['join_date'].dt.month <= 6]\\\n",
    "    .groupby('sex')['reg_age'].mean()"
   ]
  },
  {
   "cell_type": "code",
   "execution_count": 100,
   "id": "8dd6ccaa",
   "metadata": {},
   "outputs": [
    {
     "data": {
      "text/plain": [
       "1.1"
      ]
     },
     "execution_count": 100,
     "metadata": {},
     "output_type": "execute_result"
    }
   ],
   "source": [
    "round(40.314175 - 39.233391, 1)"
   ]
  },
  {
   "cell_type": "code",
   "execution_count": null,
   "id": "8c2df30a",
   "metadata": {},
   "outputs": [],
   "source": []
  },
  {
   "cell_type": "code",
   "execution_count": null,
   "id": "e3ca35d3",
   "metadata": {},
   "outputs": [],
   "source": []
  },
  {
   "cell_type": "markdown",
   "id": "f11f5f0d",
   "metadata": {},
   "source": [
    "## 1. max : 49BM, 세번째 : EU3L\n",
    "## 2. 1983, 'M'\n",
    "## 3. 0.01\n",
    "## 4. 748L\n",
    "## 5. 1.1"
   ]
  },
  {
   "cell_type": "code",
   "execution_count": null,
   "id": "285fcf58",
   "metadata": {},
   "outputs": [],
   "source": []
  },
  {
   "cell_type": "code",
   "execution_count": null,
   "id": "bc0845dd",
   "metadata": {},
   "outputs": [],
   "source": []
  },
  {
   "cell_type": "code",
   "execution_count": null,
   "id": "5d20769c",
   "metadata": {},
   "outputs": [],
   "source": []
  },
  {
   "cell_type": "code",
   "execution_count": null,
   "id": "5b6c2095",
   "metadata": {},
   "outputs": [],
   "source": []
  },
  {
   "cell_type": "code",
   "execution_count": null,
   "id": "37f07674",
   "metadata": {},
   "outputs": [],
   "source": []
  }
 ],
 "metadata": {
  "kernelspec": {
   "display_name": "Python 3 (ipykernel)",
   "language": "python",
   "name": "python3"
  },
  "language_info": {
   "codemirror_mode": {
    "name": "ipython",
    "version": 3
   },
   "file_extension": ".py",
   "mimetype": "text/x-python",
   "name": "python",
   "nbconvert_exporter": "python",
   "pygments_lexer": "ipython3",
   "version": "3.7.4"
  }
 },
 "nbformat": 4,
 "nbformat_minor": 5
}
